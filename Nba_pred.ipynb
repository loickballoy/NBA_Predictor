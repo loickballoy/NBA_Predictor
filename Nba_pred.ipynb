{
 "cells": [
  {
   "cell_type": "code",
   "execution_count": 1,
   "id": "1944fad7",
   "metadata": {
    "vscode": {
     "languageId": "plaintext"
    }
   },
   "outputs": [],
   "source": [
    "import pandas as pd\n",
    "games = pd.read_csv(\"game.csv\", index_col=0)"
   ]
  },
  {
   "cell_type": "code",
   "execution_count": 2,
   "id": "d540a07b",
   "metadata": {
    "vscode": {
     "languageId": "plaintext"
    }
   },
   "outputs": [],
   "source": [
    "games[\"game_date\"] = pd.to_datetime(games[\"game_date\"])\n",
    "games[\"team_code_home\"] = games[\"team_name_home\"].astype(\"category\").cat.codes\n",
    "games[\"team_code_away\"] = games[\"team_name_away\"].astype(\"category\").cat.codes\n",
    "games[\"day_code\"] = games[\"game_date\"].dt.dayofweek\n",
    "games[\"target_home\"] = (games[\"wl_home\"] == \"W\").astype(\"int\")\n",
    "\n",
    "home = games.rename(columns={\"team_id_home\":\"team_id\"}"
   ]
  },
  {
   "cell_type": "code",
   "execution_count": 3,
   "id": "7b9da2bd",
   "metadata": {
    "vscode": {
     "languageId": "plaintext"
    }
   },
   "outputs": [],
   "source": [
    "from sklearn.ensemble import RandomForestClassifier\n",
    "\n",
    "rf = RandomForestClassifier(n_estimators=50, min_samples_split=10, random_state=1)\n",
    "train = games[(games[\"game_date\"] < '2021-01-01') & (games[\"game_date\"] > '2000-09-01')]\n",
    "test = games[games[\"game_date\"] > '2021-01-01']\n",
    "predictors = [\"team_code_home\", \"team_code_away\", \"day_code\"]"
   ]
  },
  {
   "cell_type": "code",
   "execution_count": 4,
   "id": "5706e40b",
   "metadata": {
    "vscode": {
     "languageId": "plaintext"
    }
   },
   "outputs": [],
   "source": [
    "rf.fit(train[predictors], train[\"target_home\"])\n",
    "preds = rf.predict(test[predictors])"
   ]
  },
  {
   "cell_type": "code",
   "execution_count": 5,
   "id": "6eecdb53",
   "metadata": {
    "vscode": {
     "languageId": "plaintext"
    }
   },
   "outputs": [
    {
     "name": "stdout",
     "output_type": "stream",
     "text": [
      "0.4971502590673575\n"
     ]
    }
   ],
   "source": [
    "from sklearn.metrics import accuracy_score\n",
    "\n",
    "acc = accuracy_score(test[\"target_home\"], preds)\n",
    "print(acc)"
   ]
  },
  {
   "cell_type": "code",
   "execution_count": 6,
   "id": "20c79267",
   "metadata": {
    "vscode": {
     "languageId": "plaintext"
    }
   },
   "outputs": [
    {
     "data": {
      "text/html": [
       "<div>\n",
       "<style scoped>\n",
       "    .dataframe tbody tr th:only-of-type {\n",
       "        vertical-align: middle;\n",
       "    }\n",
       "\n",
       "    .dataframe tbody tr th {\n",
       "        vertical-align: top;\n",
       "    }\n",
       "\n",
       "    .dataframe thead th {\n",
       "        text-align: right;\n",
       "    }\n",
       "</style>\n",
       "<table border=\"1\" class=\"dataframe\">\n",
       "  <thead>\n",
       "    <tr style=\"text-align: right;\">\n",
       "      <th>prediction</th>\n",
       "      <th>0</th>\n",
       "      <th>1</th>\n",
       "    </tr>\n",
       "    <tr>\n",
       "      <th>actual</th>\n",
       "      <th></th>\n",
       "      <th></th>\n",
       "    </tr>\n",
       "  </thead>\n",
       "  <tbody>\n",
       "    <tr>\n",
       "      <th>0</th>\n",
       "      <td>518</td>\n",
       "      <td>1183</td>\n",
       "    </tr>\n",
       "    <tr>\n",
       "      <th>1</th>\n",
       "      <td>758</td>\n",
       "      <td>1401</td>\n",
       "    </tr>\n",
       "  </tbody>\n",
       "</table>\n",
       "</div>"
      ],
      "text/plain": [
       "prediction    0     1\n",
       "actual               \n",
       "0           518  1183\n",
       "1           758  1401"
      ]
     },
     "execution_count": 6,
     "metadata": {},
     "output_type": "execute_result"
    }
   ],
   "source": [
    "combined = pd.DataFrame(dict(actual=test[\"target_home\"], prediction=preds))\n",
    "pd.crosstab(index=combined[\"actual\"], columns=combined[\"prediction\"])"
   ]
  },
  {
   "cell_type": "code",
   "execution_count": 7,
   "id": "a73e289c",
   "metadata": {
    "vscode": {
     "languageId": "plaintext"
    }
   },
   "outputs": [
    {
     "data": {
      "text/plain": [
       "0.5421826625386997"
      ]
     },
     "execution_count": 7,
     "metadata": {},
     "output_type": "execute_result"
    }
   ],
   "source": [
    "from sklearn.metrics import precision_score\n",
    "precision_score(test[\"target_home\"], preds)"
   ]
  },
  {
   "cell_type": "code",
   "execution_count": 8,
   "id": "f14da825",
   "metadata": {
    "vscode": {
     "languageId": "plaintext"
    }
   },
   "outputs": [],
   "source": [
    "grouped_games = games.groupby(\"team_name_home\")"
   ]
  },
  {
   "cell_type": "code",
   "execution_count": 9,
   "id": "9ccddce8",
   "metadata": {
    "vscode": {
     "languageId": "plaintext"
    }
   },
   "outputs": [],
   "source": [
    "def rolling_averages(group, cols, new_cols):\n",
    "    group = group.sort_values(\"game_date\")\n",
    "    rolling_stats = group[cols].rolling(3, closed='left').mean()\n",
    "    group[new_cols] = rolling_stats\n",
    "    group = group.dropna(subset=new_cols)\n",
    "    return group"
   ]
  },
  {
   "cell_type": "code",
   "execution_count": 10,
   "id": "8bba08f6",
   "metadata": {
    "vscode": {
     "languageId": "plaintext"
    }
   },
   "outputs": [],
   "source": [
    "cols = [\"pts_home\", \"pts_away\", \"fg_pct_home\", \"ft_pct_home\", \"oreb_home\",\"dreb_home\",\"stl_home\",\"blk_home\",\"tov_home\",\n",
    "       \"plus_minus_home\",\"fta_away\",\"fg_pct_away\", \"ft_pct_away\", \"reb_away\",\"blk_away\",\"plus_minus_away\"]\n",
    "new_cols = [f\"{c}_rolling\" for c in cols]"
   ]
  },
  {
   "cell_type": "code",
   "execution_count": 11,
   "id": "11bb7444",
   "metadata": {
    "vscode": {
     "languageId": "plaintext"
    }
   },
   "outputs": [
    {
     "name": "stderr",
     "output_type": "stream",
     "text": [
      "/tmp/ipykernel_42205/1089646548.py:1: FutureWarning: DataFrameGroupBy.apply operated on the grouping columns. This behavior is deprecated, and in a future version of pandas the grouping columns will be excluded from the operation. Either pass `include_groups=False` to exclude the groupings or explicitly select the grouping columns after groupby to silence this warning.\n",
      "  games_rolling = games.groupby(\"team_name_home\").apply(lambda x: rolling_averages(x, cols, new_cols))\n"
     ]
    }
   ],
   "source": [
    "games_rolling = games.groupby(\"team_name_home\").apply(lambda x: rolling_averages(x, cols, new_cols))\n",
    "games_rolling = games_rolling.droplevel(\"team_name_home\")\n",
    "games_rolling.index = range(games_rolling.shape[0])"
   ]
  },
  {
   "cell_type": "code",
   "execution_count": 12,
   "id": "2b619240",
   "metadata": {
    "vscode": {
     "languageId": "plaintext"
    }
   },
   "outputs": [],
   "source": [
    "def make_predictions(data, predictors):\n",
    "    train = data[(data[\"game_date\"] < '2021-01-01') & (data[\"game_date\"] > '2000-09-01')]\n",
    "    test = data[data[\"game_date\"] > '2021-01-01']\n",
    "    rf.fit(train[predictors], train[\"target_home\"])\n",
    "    preds = rf.predict(test[predictors])\n",
    "    combined = pd.DataFrame(dict(actual=test[\"target_home\"], prediction=preds), index=test.index)\n",
    "    precision = precision_score(test[\"target_home\"], preds)\n",
    "    return combined, precision"
   ]
  },
  {
   "cell_type": "code",
   "execution_count": 13,
   "id": "15367b13",
   "metadata": {
    "vscode": {
     "languageId": "plaintext"
    }
   },
   "outputs": [
    {
     "data": {
      "text/plain": [
       "0.581886278515492"
      ]
     },
     "execution_count": 13,
     "metadata": {},
     "output_type": "execute_result"
    }
   ],
   "source": [
    "combined, precision = make_predictions(games_rolling, predictors + new_cols)\n",
    "combined = combined.merge(games_rolling[[\"game_date\", \"team_name_home\", \"team_name_away\", \"wl_home\"]], left_index=True, right_index=True)\n",
    "precision"
   ]
  },
  {
   "cell_type": "code",
   "execution_count": null,
   "id": "2bbba19e-0f89-4787-aa46-c7fa3855842f",
   "metadata": {},
   "outputs": [],
   "source": []
  }
 ],
 "metadata": {
  "kernelspec": {
   "display_name": "Python 3 (ipykernel)",
   "language": "python",
   "name": "python3"
  },
  "language_info": {
   "codemirror_mode": {
    "name": "ipython",
    "version": 3
   },
   "file_extension": ".py",
   "mimetype": "text/x-python",
   "name": "python",
   "nbconvert_exporter": "python",
   "pygments_lexer": "ipython3",
   "version": "3.13.7"
  }
 },
 "nbformat": 4,
 "nbformat_minor": 5
}
